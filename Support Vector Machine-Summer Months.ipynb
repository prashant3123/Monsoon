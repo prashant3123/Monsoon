{
 "cells": [
  {
   "cell_type": "code",
   "execution_count": 1,
   "metadata": {
    "collapsed": true
   },
   "outputs": [],
   "source": [
    "import pandas as pd\n",
    "from sklearn import svm\n",
    "import numpy as np\n",
    "from sklearn.metrics import confusion_matrix\n",
    "import matplotlib.pyplot as plt\n",
    "import itertools\n",
    "import seaborn as sns\n",
    "sns.set(color_codes=True)"
   ]
  },
  {
   "cell_type": "code",
   "execution_count": 2,
   "metadata": {},
   "outputs": [
    {
     "data": {
      "text/html": [
       "<div>\n",
       "<style>\n",
       "    .dataframe thead tr:only-child th {\n",
       "        text-align: right;\n",
       "    }\n",
       "\n",
       "    .dataframe thead th {\n",
       "        text-align: left;\n",
       "    }\n",
       "\n",
       "    .dataframe tbody tr th {\n",
       "        vertical-align: top;\n",
       "    }\n",
       "</style>\n",
       "<table border=\"1\" class=\"dataframe\">\n",
       "  <thead>\n",
       "    <tr style=\"text-align: right;\">\n",
       "      <th></th>\n",
       "      <th>Flattened_olr</th>\n",
       "      <th>Amplitude</th>\n",
       "      <th>MISO1</th>\n",
       "      <th>MISO2</th>\n",
       "      <th>Phase</th>\n",
       "    </tr>\n",
       "  </thead>\n",
       "  <tbody>\n",
       "    <tr>\n",
       "      <th>1998-06-01</th>\n",
       "      <td>[205.81, 205.81, 205.81, 205.81, 205.81, 205.8...</td>\n",
       "      <td>1.027046</td>\n",
       "      <td>-1.052428</td>\n",
       "      <td>0.049217</td>\n",
       "      <td>0</td>\n",
       "    </tr>\n",
       "    <tr>\n",
       "      <th>1998-06-02</th>\n",
       "      <td>[202.25, 202.25, 202.25, 202.25, 202.25, 202.2...</td>\n",
       "      <td>0.952081</td>\n",
       "      <td>-0.956019</td>\n",
       "      <td>0.200926</td>\n",
       "      <td>0</td>\n",
       "    </tr>\n",
       "    <tr>\n",
       "      <th>1998-06-03</th>\n",
       "      <td>[212.9, 212.9, 212.9, 212.9, 212.9, 212.9, 212...</td>\n",
       "      <td>0.879635</td>\n",
       "      <td>-0.868301</td>\n",
       "      <td>0.246973</td>\n",
       "      <td>0</td>\n",
       "    </tr>\n",
       "    <tr>\n",
       "      <th>1998-06-04</th>\n",
       "      <td>[201.4, 201.4, 201.4, 201.4, 201.4, 201.4, 201...</td>\n",
       "      <td>0.784069</td>\n",
       "      <td>-0.739618</td>\n",
       "      <td>0.317908</td>\n",
       "      <td>0</td>\n",
       "    </tr>\n",
       "    <tr>\n",
       "      <th>1998-06-05</th>\n",
       "      <td>[196.45, 196.45, 196.45, 196.45, 196.45, 196.4...</td>\n",
       "      <td>0.718819</td>\n",
       "      <td>-0.677253</td>\n",
       "      <td>0.293364</td>\n",
       "      <td>0</td>\n",
       "    </tr>\n",
       "  </tbody>\n",
       "</table>\n",
       "</div>"
      ],
      "text/plain": [
       "                                                Flattened_olr  Amplitude  \\\n",
       "1998-06-01  [205.81, 205.81, 205.81, 205.81, 205.81, 205.8...   1.027046   \n",
       "1998-06-02  [202.25, 202.25, 202.25, 202.25, 202.25, 202.2...   0.952081   \n",
       "1998-06-03  [212.9, 212.9, 212.9, 212.9, 212.9, 212.9, 212...   0.879635   \n",
       "1998-06-04  [201.4, 201.4, 201.4, 201.4, 201.4, 201.4, 201...   0.784069   \n",
       "1998-06-05  [196.45, 196.45, 196.45, 196.45, 196.45, 196.4...   0.718819   \n",
       "\n",
       "               MISO1     MISO2  Phase  \n",
       "1998-06-01 -1.052428  0.049217      0  \n",
       "1998-06-02 -0.956019  0.200926      0  \n",
       "1998-06-03 -0.868301  0.246973      0  \n",
       "1998-06-04 -0.739618  0.317908      0  \n",
       "1998-06-05 -0.677253  0.293364      0  "
      ]
     },
     "execution_count": 2,
     "metadata": {},
     "output_type": "execute_result"
    }
   ],
   "source": [
    "data =pd.read_pickle('final_dataframe.pkl')\n",
    "data.head()\n",
    "\n",
    "#using only summer months\n",
    "#filtering only summer (June -September)\n",
    "data = data[~(data.index.month > 9)]  #removing months greater than September (month 9)\n",
    "data = data[~(data.index.month < 6)] #removing months less than July (month 6)\n",
    "data.head()"
   ]
  },
  {
   "cell_type": "code",
   "execution_count": 3,
   "metadata": {
    "collapsed": true
   },
   "outputs": [],
   "source": [
    "OLR = data.iloc[:,0]\n",
    "Phase = data.iloc[:, 4]\n",
    "MISO1 = data.iloc[:,2]\n",
    "MISO2 = data.iloc[:,3]\n",
    "Amplitude = data.iloc[:,1]\n"
   ]
  },
  {
   "cell_type": "code",
   "execution_count": 4,
   "metadata": {
    "collapsed": true
   },
   "outputs": [],
   "source": [
    "#Separating Training set and test set\n",
    "msk = np.random.rand(len(OLR)) < 0.8\n",
    "x_train = OLR[msk]\n",
    "x_test = OLR[~msk]\n",
    "y_train = Phase[msk]\n",
    "y_test = Phase[~msk]\n",
    "\n",
    "\n",
    "x_train_list = x_train.tolist()\n",
    "x_test_list = x_test.tolist()\n",
    "y_train_list= y_train.tolist()\n",
    "y_test_list = y_test.tolist()"
   ]
  },
  {
   "cell_type": "code",
   "execution_count": 5,
   "metadata": {},
   "outputs": [
    {
     "data": {
      "text/plain": [
       "SVC(C=1.0, cache_size=200, class_weight=None, coef0=3,\n",
       "  decision_function_shape='ovr', degree=3, gamma='auto', kernel='poly',\n",
       "  max_iter=-1, probability=False, random_state=None, shrinking=True,\n",
       "  tol=0.001, verbose=False)"
      ]
     },
     "execution_count": 5,
     "metadata": {},
     "output_type": "execute_result"
    }
   ],
   "source": [
    "clf =svm.SVC(kernel = 'poly', coef0 = 3)\n",
    "clf.fit(x_train_list, y_train_list)"
   ]
  },
  {
   "cell_type": "code",
   "execution_count": 6,
   "metadata": {
    "collapsed": true
   },
   "outputs": [],
   "source": [
    "y_pred = clf.predict(x_test_list)"
   ]
  },
  {
   "cell_type": "code",
   "execution_count": 7,
   "metadata": {
    "collapsed": true
   },
   "outputs": [],
   "source": [
    "confusion_matrix =confusion_matrix(y_test_list, y_pred)"
   ]
  },
  {
   "cell_type": "code",
   "execution_count": 8,
   "metadata": {},
   "outputs": [
    {
     "data": {
      "text/html": [
       "<div>\n",
       "<style>\n",
       "    .dataframe thead tr:only-child th {\n",
       "        text-align: right;\n",
       "    }\n",
       "\n",
       "    .dataframe thead th {\n",
       "        text-align: left;\n",
       "    }\n",
       "\n",
       "    .dataframe tbody tr th {\n",
       "        vertical-align: top;\n",
       "    }\n",
       "</style>\n",
       "<table border=\"1\" class=\"dataframe\">\n",
       "  <thead>\n",
       "    <tr style=\"text-align: right;\">\n",
       "      <th></th>\n",
       "      <th>Phase</th>\n",
       "      <th>Predicted_Phase</th>\n",
       "      <th>MISO1</th>\n",
       "      <th>MISO2</th>\n",
       "      <th>Amplitude</th>\n",
       "    </tr>\n",
       "  </thead>\n",
       "  <tbody>\n",
       "    <tr>\n",
       "      <th>1998-06-10</th>\n",
       "      <td>0</td>\n",
       "      <td>0</td>\n",
       "      <td>-0.248288</td>\n",
       "      <td>0.369676</td>\n",
       "      <td>0.432358</td>\n",
       "    </tr>\n",
       "    <tr>\n",
       "      <th>1998-06-13</th>\n",
       "      <td>0</td>\n",
       "      <td>0</td>\n",
       "      <td>0.316368</td>\n",
       "      <td>0.031210</td>\n",
       "      <td>0.309884</td>\n",
       "    </tr>\n",
       "    <tr>\n",
       "      <th>1998-06-16</th>\n",
       "      <td>0</td>\n",
       "      <td>0</td>\n",
       "      <td>0.612276</td>\n",
       "      <td>-0.083858</td>\n",
       "      <td>0.602372</td>\n",
       "    </tr>\n",
       "    <tr>\n",
       "      <th>1998-06-17</th>\n",
       "      <td>0</td>\n",
       "      <td>0</td>\n",
       "      <td>0.673855</td>\n",
       "      <td>-0.161064</td>\n",
       "      <td>0.675184</td>\n",
       "    </tr>\n",
       "    <tr>\n",
       "      <th>1998-06-19</th>\n",
       "      <td>0</td>\n",
       "      <td>0</td>\n",
       "      <td>0.644472</td>\n",
       "      <td>-0.425459</td>\n",
       "      <td>0.751470</td>\n",
       "    </tr>\n",
       "  </tbody>\n",
       "</table>\n",
       "</div>"
      ],
      "text/plain": [
       "            Phase  Predicted_Phase     MISO1     MISO2  Amplitude\n",
       "1998-06-10      0                0 -0.248288  0.369676   0.432358\n",
       "1998-06-13      0                0  0.316368  0.031210   0.309884\n",
       "1998-06-16      0                0  0.612276 -0.083858   0.602372\n",
       "1998-06-17      0                0  0.673855 -0.161064   0.675184\n",
       "1998-06-19      0                0  0.644472 -0.425459   0.751470"
      ]
     },
     "execution_count": 8,
     "metadata": {},
     "output_type": "execute_result"
    }
   ],
   "source": [
    "#Making a dataframe to compare predicted and actual class\n",
    "comparision_df = pd.DataFrame(y_test)\n",
    "comparision_df['Predicted_Phase']=y_pred\n",
    "comparision_df =comparision_df.join(MISO1)\n",
    "comparision_df = comparision_df.join(MISO2)\n",
    "comparision_df = comparision_df.join(Amplitude)\n",
    "\n",
    "comparision_df.head()"
   ]
  },
  {
   "cell_type": "code",
   "execution_count": 9,
   "metadata": {},
   "outputs": [
    {
     "data": {
      "text/html": [
       "<div>\n",
       "<style>\n",
       "    .dataframe thead tr:only-child th {\n",
       "        text-align: right;\n",
       "    }\n",
       "\n",
       "    .dataframe thead th {\n",
       "        text-align: left;\n",
       "    }\n",
       "\n",
       "    .dataframe tbody tr th {\n",
       "        vertical-align: top;\n",
       "    }\n",
       "</style>\n",
       "<table border=\"1\" class=\"dataframe\">\n",
       "  <thead>\n",
       "    <tr style=\"text-align: right;\">\n",
       "      <th></th>\n",
       "      <th>Phase</th>\n",
       "      <th>Predicted_Phase</th>\n",
       "      <th>MISO1</th>\n",
       "      <th>MISO2</th>\n",
       "      <th>Amplitude</th>\n",
       "    </tr>\n",
       "  </thead>\n",
       "  <tbody>\n",
       "    <tr>\n",
       "      <th>1998-08-07</th>\n",
       "      <td>0</td>\n",
       "      <td>8</td>\n",
       "      <td>-0.815027</td>\n",
       "      <td>-1.281323</td>\n",
       "      <td>1.474181</td>\n",
       "    </tr>\n",
       "    <tr>\n",
       "      <th>1998-08-18</th>\n",
       "      <td>5</td>\n",
       "      <td>0</td>\n",
       "      <td>-1.161777</td>\n",
       "      <td>1.517478</td>\n",
       "      <td>1.856167</td>\n",
       "    </tr>\n",
       "    <tr>\n",
       "      <th>1998-08-20</th>\n",
       "      <td>5</td>\n",
       "      <td>3</td>\n",
       "      <td>-0.607083</td>\n",
       "      <td>1.557297</td>\n",
       "      <td>1.621093</td>\n",
       "    </tr>\n",
       "    <tr>\n",
       "      <th>1998-08-21</th>\n",
       "      <td>5</td>\n",
       "      <td>4</td>\n",
       "      <td>-0.214877</td>\n",
       "      <td>1.576808</td>\n",
       "      <td>1.542408</td>\n",
       "    </tr>\n",
       "    <tr>\n",
       "      <th>1998-08-31</th>\n",
       "      <td>2</td>\n",
       "      <td>0</td>\n",
       "      <td>1.994492</td>\n",
       "      <td>-0.323374</td>\n",
       "      <td>1.969384</td>\n",
       "    </tr>\n",
       "  </tbody>\n",
       "</table>\n",
       "</div>"
      ],
      "text/plain": [
       "            Phase  Predicted_Phase     MISO1     MISO2  Amplitude\n",
       "1998-08-07      0                8 -0.815027 -1.281323   1.474181\n",
       "1998-08-18      5                0 -1.161777  1.517478   1.856167\n",
       "1998-08-20      5                3 -0.607083  1.557297   1.621093\n",
       "1998-08-21      5                4 -0.214877  1.576808   1.542408\n",
       "1998-08-31      2                0  1.994492 -0.323374   1.969384"
      ]
     },
     "execution_count": 9,
     "metadata": {},
     "output_type": "execute_result"
    }
   ],
   "source": [
    "\n",
    "#Collecting Incorrectly Predicted Data\n",
    "incorrectly_predicted = comparision_df[~(comparision_df.Phase == comparision_df.Predicted_Phase)]\n",
    "incorrectly_predicted.head()"
   ]
  },
  {
   "cell_type": "code",
   "execution_count": 10,
   "metadata": {},
   "outputs": [
    {
     "data": {
      "text/html": [
       "<div>\n",
       "<style>\n",
       "    .dataframe thead tr:only-child th {\n",
       "        text-align: right;\n",
       "    }\n",
       "\n",
       "    .dataframe thead th {\n",
       "        text-align: left;\n",
       "    }\n",
       "\n",
       "    .dataframe tbody tr th {\n",
       "        vertical-align: top;\n",
       "    }\n",
       "</style>\n",
       "<table border=\"1\" class=\"dataframe\">\n",
       "  <thead>\n",
       "    <tr style=\"text-align: right;\">\n",
       "      <th></th>\n",
       "      <th>Phase</th>\n",
       "      <th>Predicted_Phase</th>\n",
       "      <th>MISO1</th>\n",
       "      <th>MISO2</th>\n",
       "      <th>Amplitude</th>\n",
       "    </tr>\n",
       "  </thead>\n",
       "  <tbody>\n",
       "    <tr>\n",
       "      <th>count</th>\n",
       "      <td>93.000000</td>\n",
       "      <td>93.000000</td>\n",
       "      <td>93.000000</td>\n",
       "      <td>93.000000</td>\n",
       "      <td>93.000000</td>\n",
       "    </tr>\n",
       "    <tr>\n",
       "      <th>mean</th>\n",
       "      <td>3.709677</td>\n",
       "      <td>2.612903</td>\n",
       "      <td>0.151396</td>\n",
       "      <td>-0.210011</td>\n",
       "      <td>2.112609</td>\n",
       "    </tr>\n",
       "    <tr>\n",
       "      <th>std</th>\n",
       "      <td>2.721016</td>\n",
       "      <td>3.014574</td>\n",
       "      <td>1.711872</td>\n",
       "      <td>1.546008</td>\n",
       "      <td>0.762831</td>\n",
       "    </tr>\n",
       "    <tr>\n",
       "      <th>min</th>\n",
       "      <td>0.000000</td>\n",
       "      <td>0.000000</td>\n",
       "      <td>-4.324171</td>\n",
       "      <td>-3.594669</td>\n",
       "      <td>0.230953</td>\n",
       "    </tr>\n",
       "    <tr>\n",
       "      <th>25%</th>\n",
       "      <td>1.000000</td>\n",
       "      <td>0.000000</td>\n",
       "      <td>-1.250489</td>\n",
       "      <td>-1.281323</td>\n",
       "      <td>1.653111</td>\n",
       "    </tr>\n",
       "    <tr>\n",
       "      <th>50%</th>\n",
       "      <td>3.000000</td>\n",
       "      <td>1.000000</td>\n",
       "      <td>0.091312</td>\n",
       "      <td>-0.217109</td>\n",
       "      <td>2.062807</td>\n",
       "    </tr>\n",
       "    <tr>\n",
       "      <th>75%</th>\n",
       "      <td>6.000000</td>\n",
       "      <td>5.000000</td>\n",
       "      <td>1.553534</td>\n",
       "      <td>0.976013</td>\n",
       "      <td>2.488928</td>\n",
       "    </tr>\n",
       "    <tr>\n",
       "      <th>max</th>\n",
       "      <td>8.000000</td>\n",
       "      <td>8.000000</td>\n",
       "      <td>3.381321</td>\n",
       "      <td>2.989867</td>\n",
       "      <td>4.291802</td>\n",
       "    </tr>\n",
       "  </tbody>\n",
       "</table>\n",
       "</div>"
      ],
      "text/plain": [
       "           Phase  Predicted_Phase      MISO1      MISO2  Amplitude\n",
       "count  93.000000        93.000000  93.000000  93.000000  93.000000\n",
       "mean    3.709677         2.612903   0.151396  -0.210011   2.112609\n",
       "std     2.721016         3.014574   1.711872   1.546008   0.762831\n",
       "min     0.000000         0.000000  -4.324171  -3.594669   0.230953\n",
       "25%     1.000000         0.000000  -1.250489  -1.281323   1.653111\n",
       "50%     3.000000         1.000000   0.091312  -0.217109   2.062807\n",
       "75%     6.000000         5.000000   1.553534   0.976013   2.488928\n",
       "max     8.000000         8.000000   3.381321   2.989867   4.291802"
      ]
     },
     "execution_count": 10,
     "metadata": {},
     "output_type": "execute_result"
    }
   ],
   "source": [
    "incorrectly_predicted.describe()"
   ]
  },
  {
   "cell_type": "code",
   "execution_count": 11,
   "metadata": {},
   "outputs": [
    {
     "data": {
      "text/html": [
       "<div>\n",
       "<style>\n",
       "    .dataframe thead tr:only-child th {\n",
       "        text-align: right;\n",
       "    }\n",
       "\n",
       "    .dataframe thead th {\n",
       "        text-align: left;\n",
       "    }\n",
       "\n",
       "    .dataframe tbody tr th {\n",
       "        vertical-align: top;\n",
       "    }\n",
       "</style>\n",
       "<table border=\"1\" class=\"dataframe\">\n",
       "  <thead>\n",
       "    <tr style=\"text-align: right;\">\n",
       "      <th></th>\n",
       "      <th>Phase</th>\n",
       "      <th>Predicted_Phase</th>\n",
       "      <th>MISO1</th>\n",
       "      <th>MISO2</th>\n",
       "      <th>Amplitude</th>\n",
       "    </tr>\n",
       "  </thead>\n",
       "  <tbody>\n",
       "    <tr>\n",
       "      <th>1998-06-10</th>\n",
       "      <td>0</td>\n",
       "      <td>0</td>\n",
       "      <td>-0.248288</td>\n",
       "      <td>0.369676</td>\n",
       "      <td>0.432358</td>\n",
       "    </tr>\n",
       "    <tr>\n",
       "      <th>1998-06-13</th>\n",
       "      <td>0</td>\n",
       "      <td>0</td>\n",
       "      <td>0.316368</td>\n",
       "      <td>0.031210</td>\n",
       "      <td>0.309884</td>\n",
       "    </tr>\n",
       "    <tr>\n",
       "      <th>1998-06-16</th>\n",
       "      <td>0</td>\n",
       "      <td>0</td>\n",
       "      <td>0.612276</td>\n",
       "      <td>-0.083858</td>\n",
       "      <td>0.602372</td>\n",
       "    </tr>\n",
       "    <tr>\n",
       "      <th>1998-06-17</th>\n",
       "      <td>0</td>\n",
       "      <td>0</td>\n",
       "      <td>0.673855</td>\n",
       "      <td>-0.161064</td>\n",
       "      <td>0.675184</td>\n",
       "    </tr>\n",
       "    <tr>\n",
       "      <th>1998-06-19</th>\n",
       "      <td>0</td>\n",
       "      <td>0</td>\n",
       "      <td>0.644472</td>\n",
       "      <td>-0.425459</td>\n",
       "      <td>0.751470</td>\n",
       "    </tr>\n",
       "  </tbody>\n",
       "</table>\n",
       "</div>"
      ],
      "text/plain": [
       "            Phase  Predicted_Phase     MISO1     MISO2  Amplitude\n",
       "1998-06-10      0                0 -0.248288  0.369676   0.432358\n",
       "1998-06-13      0                0  0.316368  0.031210   0.309884\n",
       "1998-06-16      0                0  0.612276 -0.083858   0.602372\n",
       "1998-06-17      0                0  0.673855 -0.161064   0.675184\n",
       "1998-06-19      0                0  0.644472 -0.425459   0.751470"
      ]
     },
     "execution_count": 11,
     "metadata": {},
     "output_type": "execute_result"
    }
   ],
   "source": [
    "#Collecting Correctly Predicted Data\n",
    "correctly_predicted = comparision_df[~(comparision_df.Phase != comparision_df.Predicted_Phase)]\n",
    "correctly_predicted.head()\n"
   ]
  },
  {
   "cell_type": "code",
   "execution_count": 14,
   "metadata": {
    "collapsed": true
   },
   "outputs": [],
   "source": [
    "#Got this code from sklearn confusion matrix documentation\n",
    "#http://scikit-learn.org/stable/auto_examples/model_selection/plot_confusion_matrix.html#sphx-glr-auto-examples-model-selection-plot-confusion-matrix-py\n",
    "def plot_confusion_matrix(cm, classes,\n",
    "                          normalize=False,\n",
    "                          title='Confusion matrix',\n",
    "                          cmap=plt.cm.Blues):\n",
    "    \"\"\"\n",
    "    This function prints and plots the confusion matrix.\n",
    "    Normalization can be applied by setting `normalize=True`.\n",
    "    \"\"\"\n",
    "    if normalize:\n",
    "        cm = cm.astype('float') / cm.sum(axis=1)[:, np.newaxis]\n",
    "        print(\"Normalized confusion matrix\")\n",
    "    else:\n",
    "        print('Confusion matrix, without normalization')\n",
    "\n",
    "    print(cm)\n",
    "\n",
    "    plt.imshow(cm, interpolation='nearest', cmap=cmap)\n",
    "    plt.title(title)\n",
    "    plt.colorbar()\n",
    "    tick_marks = np.arange(len(classes))\n",
    "    plt.xticks(tick_marks, classes, rotation=45)\n",
    "    plt.yticks(tick_marks, classes)\n",
    "\n",
    "    fmt = '.2f' if normalize else 'd'\n",
    "    thresh = cm.max() / 2.\n",
    "    for i, j in itertools.product(range(cm.shape[0]), range(cm.shape[1])):\n",
    "        plt.text(j, i, format(cm[i, j], fmt),\n",
    "                 horizontalalignment=\"center\",\n",
    "                 color=\"white\" if cm[i, j] > thresh else \"black\")\n",
    "\n",
    "    plt.tight_layout()\n",
    "    plt.ylabel('True label')\n",
    "    plt.xlabel('Predicted label')\n",
    "\n",
    "\n"
   ]
  },
  {
   "cell_type": "code",
   "execution_count": 15,
   "metadata": {},
   "outputs": [
    {
     "name": "stdout",
     "output_type": "stream",
     "text": [
      "Confusion matrix, without normalization\n",
      "[[147   3   3   0   1   2   1   4   1]\n",
      " [  3  20   0   0   0   0   0   0   6]\n",
      " [  9   1  22   3   0   0   0   0   0]\n",
      " [  3   3   2  24   2   1   0   0   0]\n",
      " [  5   0   1   2  15   1   0   0   0]\n",
      " [  5   0   0   1   1  17   1   0   0]\n",
      " [  2   0   0   0   0   1  20   2   0]\n",
      " [  8   0   0   0   0   1   0  12   4]\n",
      " [  4   4   0   0   0   0   0   2  23]]\n"
     ]
    },
    {
     "data": {
      "image/png": "[encoded data removed]",
      "text/plain": [
       "<matplotlib.figure.Figure at 0x10c6c14a8>"
      ]
     },
     "metadata": {},
     "output_type": "display_data"
    }
   ],
   "source": [
    "\n",
    "# Plot non-normalized confusion matrix\n",
    "plt.figure()\n",
    "\n",
    "\n",
    "plot_confusion_matrix(confusion_matrix, classes=['0','1','2','3','4','5','6','7','8'],title='Confusion matrix, without normalization')\n",
    "plt.show()"
   ]
  },
  {
   "cell_type": "code",
   "execution_count": 16,
   "metadata": {},
   "outputs": [
    {
     "name": "stdout",
     "output_type": "stream",
     "text": [
      "Normalized confusion matrix\n",
      "[[ 0.90740741  0.01851852  0.01851852  0.          0.00617284  0.01234568\n",
      "   0.00617284  0.02469136  0.00617284]\n",
      " [ 0.10344828  0.68965517  0.          0.          0.          0.          0.\n",
      "   0.          0.20689655]\n",
      " [ 0.25714286  0.02857143  0.62857143  0.08571429  0.          0.          0.\n",
      "   0.          0.        ]\n",
      " [ 0.08571429  0.08571429  0.05714286  0.68571429  0.05714286  0.02857143\n",
      "   0.          0.          0.        ]\n",
      " [ 0.20833333  0.          0.04166667  0.08333333  0.625       0.04166667\n",
      "   0.          0.          0.        ]\n",
      " [ 0.2         0.          0.          0.04        0.04        0.68        0.04\n",
      "   0.          0.        ]\n",
      " [ 0.08        0.          0.          0.          0.          0.04        0.8\n",
      "   0.08        0.        ]\n",
      " [ 0.32        0.          0.          0.          0.          0.04        0.\n",
      "   0.48        0.16      ]\n",
      " [ 0.12121212  0.12121212  0.          0.          0.          0.          0.\n",
      "   0.06060606  0.6969697 ]]\n"
     ]
    },
    {
     "data": {
      "image/png": "[encoded data removed]",
      "text/plain": [
       "<matplotlib.figure.Figure at 0x10c7abf60>"
      ]
     },
     "metadata": {},
     "output_type": "display_data"
    }
   ],
   "source": [
    "# Plot normalized confusion matrix\n",
    "plt.figure()\n",
    "\n",
    "\n",
    "plot_confusion_matrix(confusion_matrix, classes=['0','1','2','3','4','5','6','7','8'],title='Confusion matrix, with normalization', normalize= True)\n",
    "plt.show()"
   ]
  },
  {
   "cell_type": "code",
   "execution_count": 17,
   "metadata": {},
   "outputs": [
    {
     "data": {
      "text/plain": [
       "SVC(C=1.0, cache_size=200, class_weight=None, coef0=3,\n",
       "  decision_function_shape='ovr', degree=3, gamma='auto', kernel='poly',\n",
       "  max_iter=-1, probability=False, random_state=None, shrinking=True,\n",
       "  tol=0.001, verbose=False)"
      ]
     },
     "execution_count": 17,
     "metadata": {},
     "output_type": "execute_result"
    }
   ],
   "source": [
    "clf"
   ]
  },
  {
   "cell_type": "code",
   "execution_count": null,
   "metadata": {
    "collapsed": true
   },
   "outputs": [],
   "source": []
  }
 ],
 "metadata": {
  "kernelspec": {
   "display_name": "Python 3",
   "language": "python",
   "name": "python3"
  },
  "language_info": {
   "codemirror_mode": {
    "name": "ipython",
    "version": 3
   },
   "file_extension": ".py",
   "mimetype": "text/x-python",
   "name": "python",
   "nbconvert_exporter": "python",
   "pygments_lexer": "ipython3",
   "version": "3.6.3"
  }
 },
 "nbformat": 4,
 "nbformat_minor": 2
}
