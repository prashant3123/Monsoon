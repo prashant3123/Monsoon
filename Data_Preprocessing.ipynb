{
 "cells": [
  {
   "cell_type": "code",
   "execution_count": 1,
   "metadata": {
    "collapsed": true
   },
   "outputs": [],
   "source": [
    "from netCDF4 import Dataset, num2date\n",
    "import pandas as pd\n",
    "import matplotlib.pyplot as plt\n",
    "import numpy as np\n",
    "import datetime"
   ]
  },
  {
   "cell_type": "code",
   "execution_count": 2,
   "metadata": {
    "collapsed": true
   },
   "outputs": [],
   "source": [
    "#gives the postion of a particular date in a particular array. \n",
    "#However, if you want 1974 Jan 13, date should be datetime.datetime(1974, 12, 13, 0, 0)\n",
    "def MISOdate_position(date):\n",
    "    pos = np.where(date_miso==date)\n",
    "    return pos[0][0]\n",
    "\n",
    "def OLRdate_position(date):\n",
    "    pos = np.where(date_olr==date)\n",
    "    return pos[0][0]\n",
    "\n",
    "#gives the position of a particular [latitude, longutude] in arrays of latitude and longitudes\n",
    "#latitude ranges from (90 to -90 with step = -2.5)\n",
    "#longigute ranges from (0 to 357.5 with step = 2.5)\n",
    "def latlonpos(coordinate):\n",
    "    latitude = np.where(lats==coordinate[0])[0][0]\n",
    "    longitude = np.where(lons==coordinate[1])[0][0]\n",
    "    return([latitude, longitude])\n",
    "\n",
    "#calculates the miso amplitude given miso1 and miso2 as defined in the literature and can be\n",
    "#accessed at https://link.springer.com/content/pdf/10.1007%2Fs00382-016-3491-y.pdf\n",
    "def MISOAmplitude(miso_one, miso_two):\n",
    "    miso1_var = np.var(miso1)\n",
    "    miso2_var = np.var(miso2)\n",
    "    amp = np.sqrt(((miso_one*miso_one)/miso1_var) + ((miso_two * miso_two)/miso2_var))\n",
    "    return (amp)\n",
    "\n",
    "#computes the miso phase give miso1 and miso2 as defined in the literature \n",
    "def MISOPhase(miso_one, miso_two):\n",
    "    if MISOAmplitude(miso_one, miso_two)<1.5:\n",
    "        return (0)\n",
    "    elif miso_one >0 and miso_two<0:\n",
    "        if abs(miso_two)>abs(miso_one):\n",
    "            return (1)\n",
    "        if abs(miso_two)<abs(miso_one):\n",
    "            return(2)\n",
    "    elif miso_one >0 and miso_two>0:\n",
    "        if abs(miso_two)<abs(miso_one):\n",
    "            return(3)\n",
    "        if abs(miso_two)>abs(miso_one):\n",
    "            return(4)\n",
    "    elif (miso_two)>0 and (miso_one)<0:\n",
    "        if abs(miso_two)>abs(miso_one):\n",
    "            return (5)\n",
    "        if abs(miso_two)<abs(miso_one):\n",
    "            return(6)\n",
    "    elif (miso_two)<0 and (miso_one)<0:\n",
    "        if abs(miso_one)>abs(miso_two):\n",
    "            return (7)\n",
    "        if abs(miso_one)<abs(miso_two):\n",
    "            return (8)\n",
    "            "
   ]
  },
  {
   "cell_type": "code",
   "execution_count": 3,
   "metadata": {
    "collapsed": true
   },
   "outputs": [],
   "source": [
    "    \n",
    "\n",
    "#MISO Dataset provided by Dr. Ajaya Ravindran\n",
    "miso_datasets = Dataset('miso.nc', mode = 'r')\n",
    "miso1 = np.array(miso_datasets.variables['miso1'][: ])\n",
    "miso2 = np.array(miso_datasets.variables['miso2'][:])\n",
    "time_miso = np.array(miso_datasets.variables['time'][:]) #units: days since 1998-02-02 00:00\n",
    "time_miso_unit = miso_datasets.variables['time'].units #units: days since 1998-02-02 00:00\n",
    "date_miso = num2date(time_miso, units = time_miso_unit, calendar = 'standard') #assuming calendar is standard as the information is not present\n",
    "\n",
    "\n",
    "\n",
    "\n",
    "\n",
    "#Daily Mean OLR Dataset downloaded from \n",
    "#https://www.esrl.noaa.gov/psd/data/gridded/data.interp_OLR.html\n",
    "\n",
    "olr_datasets=Dataset('olr.day.mean.nc')\n",
    "lons = np.array(olr_datasets.variables['lon'][:])\n",
    "lats = np.array(olr_datasets.variables['lat'][:])\n",
    "time_olr = np.array(olr_datasets.variables['time'][:])\n",
    "time_olr_unit = olr_datasets.variables['time'].units\n",
    "date_olr = num2date(time_olr, units = time_olr_unit, calendar = 'standard') #assuming that the calendar is standard as the information is not provided\n",
    "olr = np.array(olr_datasets.variables['olr'][:]) #(time, column (latitude), row(longitude))"
   ]
  },
  {
   "cell_type": "code",
   "execution_count": 4,
   "metadata": {
    "collapsed": true
   },
   "outputs": [],
   "source": [
    "#Calculating miso_phase for all dates\n",
    "miso_phase = []\n",
    "miso_amp = []\n",
    "for i in time_miso:\n",
    "    ph = MISOPhase(miso1[i], miso2[i])\n",
    "    amp = MISOAmplitude(miso1[i], miso2[i])\n",
    "    miso_phase.append(ph)\n",
    "    miso_amp.append(amp)\n",
    "miso_phase = np.array(miso_phase)\n",
    "miso_amp = np.array(miso_amp)"
   ]
  },
  {
   "cell_type": "code",
   "execution_count": 5,
   "metadata": {
    "collapsed": true
   },
   "outputs": [],
   "source": [
    "#Flattening OLR data\n",
    "olr_flattened = []\n",
    "for index in range(len(olr)):\n",
    "    temp = olr[index].flatten()\n",
    "    olr_flattened.append(temp)"
   ]
  },
  {
   "cell_type": "code",
   "execution_count": 6,
   "metadata": {
    "collapsed": true
   },
   "outputs": [],
   "source": [
    "#Creating dataframe using miso1, miso2, phase, amplitude and time(days since 1998)\n",
    "temp = {'MISO1': miso1, 'MISO2':miso2, 'Phase': miso_phase, 'Amplitude': miso_amp}\n",
    "miso_dataframe = pd.DataFrame(data=temp, index = date_miso)\n",
    "\n",
    "\n",
    "#Creating dataframe using flattened points (olr) and date\n",
    "temp = {'Flattened_olr': olr_flattened}\n",
    "olr_dataframe = pd.DataFrame(data= temp, index = date_olr)"
   ]
  },
  {
   "cell_type": "code",
   "execution_count": 7,
   "metadata": {
    "collapsed": true
   },
   "outputs": [],
   "source": [
    "#Merging two dataframe\n",
    "final_dataframe=olr_dataframe.merge(miso_dataframe,how='inner', left_index=True, right_index=True)"
   ]
  },
  {
   "cell_type": "code",
   "execution_count": 8,
   "metadata": {
    "collapsed": true
   },
   "outputs": [],
   "source": [
    "#Saving dataframe\n",
    "final_dataframe.to_pickle('final_dataframe.pkl')"
   ]
  },
  {
   "cell_type": "code",
   "execution_count": null,
   "metadata": {
    "collapsed": true
   },
   "outputs": [],
   "source": []
  }
 ],
 "metadata": {
  "kernelspec": {
   "display_name": "Python 3",
   "language": "python",
   "name": "python3"
  },
  "language_info": {
   "codemirror_mode": {
    "name": "ipython",
    "version": 3
   },
   "file_extension": ".py",
   "mimetype": "text/x-python",
   "name": "python",
   "nbconvert_exporter": "python",
   "pygments_lexer": "ipython3",
   "version": "3.6.3"
  }
 },
 "nbformat": 4,
 "nbformat_minor": 2
}
