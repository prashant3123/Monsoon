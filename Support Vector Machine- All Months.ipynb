{
 "cells": [
  {
   "cell_type": "code",
   "execution_count": 1,
   "metadata": {
    "collapsed": true
   },
   "outputs": [],
   "source": [
    "import pandas as pd\n",
    "from sklearn import svm\n",
    "import numpy as np\n",
    "from sklearn.metrics import confusion_matrix\n",
    "import matplotlib.pyplot as plt\n",
    "import itertools\n",
    "import seaborn as sns\n",
    "sns.set(color_codes=True)"
   ]
  },
  {
   "cell_type": "code",
   "execution_count": 2,
   "metadata": {},
   "outputs": [
    {
     "data": {
      "text/html": [
       "<div>\n",
       "<style>\n",
       "    .dataframe thead tr:only-child th {\n",
       "        text-align: right;\n",
       "    }\n",
       "\n",
       "    .dataframe thead th {\n",
       "        text-align: left;\n",
       "    }\n",
       "\n",
       "    .dataframe tbody tr th {\n",
       "        vertical-align: top;\n",
       "    }\n",
       "</style>\n",
       "<table border=\"1\" class=\"dataframe\">\n",
       "  <thead>\n",
       "    <tr style=\"text-align: right;\">\n",
       "      <th></th>\n",
       "      <th>Flattened_olr</th>\n",
       "      <th>Amplitude</th>\n",
       "      <th>MISO1</th>\n",
       "      <th>MISO2</th>\n",
       "      <th>Phase</th>\n",
       "    </tr>\n",
       "  </thead>\n",
       "  <tbody>\n",
       "    <tr>\n",
       "      <th>1998-02-02</th>\n",
       "      <td>[142.5, 142.5, 142.5, 142.5, 142.5, 142.5, 142...</td>\n",
       "      <td>0.271886</td>\n",
       "      <td>0.120646</td>\n",
       "      <td>-0.252943</td>\n",
       "      <td>0</td>\n",
       "    </tr>\n",
       "    <tr>\n",
       "      <th>1998-02-03</th>\n",
       "      <td>[141.4, 141.4, 141.4, 141.4, 141.4, 141.4, 141...</td>\n",
       "      <td>0.318955</td>\n",
       "      <td>0.101532</td>\n",
       "      <td>-0.312871</td>\n",
       "      <td>0</td>\n",
       "    </tr>\n",
       "    <tr>\n",
       "      <th>1998-02-04</th>\n",
       "      <td>[147.05, 147.05, 147.05, 147.05, 147.05, 147.0...</td>\n",
       "      <td>0.356638</td>\n",
       "      <td>0.075671</td>\n",
       "      <td>-0.360043</td>\n",
       "      <td>0</td>\n",
       "    </tr>\n",
       "    <tr>\n",
       "      <th>1998-02-05</th>\n",
       "      <td>[151.65, 151.65, 151.65, 151.65, 151.65, 151.6...</td>\n",
       "      <td>0.460725</td>\n",
       "      <td>0.042925</td>\n",
       "      <td>-0.473440</td>\n",
       "      <td>0</td>\n",
       "    </tr>\n",
       "    <tr>\n",
       "      <th>1998-02-06</th>\n",
       "      <td>[140.95, 140.95, 140.95, 140.95, 140.95, 140.9...</td>\n",
       "      <td>0.465203</td>\n",
       "      <td>0.043117</td>\n",
       "      <td>-0.478062</td>\n",
       "      <td>0</td>\n",
       "    </tr>\n",
       "  </tbody>\n",
       "</table>\n",
       "</div>"
      ],
      "text/plain": [
       "                                                Flattened_olr  Amplitude  \\\n",
       "1998-02-02  [142.5, 142.5, 142.5, 142.5, 142.5, 142.5, 142...   0.271886   \n",
       "1998-02-03  [141.4, 141.4, 141.4, 141.4, 141.4, 141.4, 141...   0.318955   \n",
       "1998-02-04  [147.05, 147.05, 147.05, 147.05, 147.05, 147.0...   0.356638   \n",
       "1998-02-05  [151.65, 151.65, 151.65, 151.65, 151.65, 151.6...   0.460725   \n",
       "1998-02-06  [140.95, 140.95, 140.95, 140.95, 140.95, 140.9...   0.465203   \n",
       "\n",
       "               MISO1     MISO2  Phase  \n",
       "1998-02-02  0.120646 -0.252943      0  \n",
       "1998-02-03  0.101532 -0.312871      0  \n",
       "1998-02-04  0.075671 -0.360043      0  \n",
       "1998-02-05  0.042925 -0.473440      0  \n",
       "1998-02-06  0.043117 -0.478062      0  "
      ]
     },
     "execution_count": 2,
     "metadata": {},
     "output_type": "execute_result"
    }
   ],
   "source": [
    "data =pd.read_pickle('final_dataframe.pkl')\n",
    "data.head()\n"
   ]
  },
  {
   "cell_type": "code",
   "execution_count": 3,
   "metadata": {
    "collapsed": true
   },
   "outputs": [],
   "source": [
    "OLR = data.iloc[:,0]\n",
    "Phase = data.iloc[:, 4]\n",
    "MISO1 = data.iloc[:,2]\n",
    "MISO2 = data.iloc[:,3]\n",
    "Amplitude = data.iloc[:,1]\n"
   ]
  },
  {
   "cell_type": "code",
   "execution_count": 4,
   "metadata": {
    "collapsed": true
   },
   "outputs": [],
   "source": [
    "#Separating Training set and test set\n",
    "msk = np.random.rand(len(OLR)) < 0.8\n",
    "x_train = OLR[msk]\n",
    "x_test = OLR[~msk]\n",
    "y_train = Phase[msk]\n",
    "y_test = Phase[~msk]\n",
    "\n",
    "\n",
    "x_train_list = x_train.tolist()\n",
    "x_test_list = x_test.tolist()\n",
    "y_train_list= y_train.tolist()\n",
    "y_test_list = y_test.tolist()"
   ]
  },
  {
   "cell_type": "code",
   "execution_count": 5,
   "metadata": {},
   "outputs": [
    {
     "data": {
      "text/plain": [
       "SVC(C=1.0, cache_size=200, class_weight=None, coef0=3,\n",
       "  decision_function_shape='ovr', degree=3, gamma='auto', kernel='poly',\n",
       "  max_iter=-1, probability=False, random_state=None, shrinking=True,\n",
       "  tol=0.001, verbose=False)"
      ]
     },
     "execution_count": 5,
     "metadata": {},
     "output_type": "execute_result"
    }
   ],
   "source": [
    "clf =svm.SVC(kernel = 'poly', coef0=3)\n",
    "clf.fit(x_train_list, y_train_list)"
   ]
  },
  {
   "cell_type": "code",
   "execution_count": 6,
   "metadata": {
    "collapsed": true
   },
   "outputs": [],
   "source": [
    "y_pred = clf.predict(x_test_list)"
   ]
  },
  {
   "cell_type": "code",
   "execution_count": 7,
   "metadata": {
    "collapsed": true
   },
   "outputs": [],
   "source": [
    "confusion_matrix =confusion_matrix(y_test_list, y_pred)"
   ]
  },
  {
   "cell_type": "code",
   "execution_count": 8,
   "metadata": {},
   "outputs": [
    {
     "data": {
      "text/html": [
       "<div>\n",
       "<style>\n",
       "    .dataframe thead tr:only-child th {\n",
       "        text-align: right;\n",
       "    }\n",
       "\n",
       "    .dataframe thead th {\n",
       "        text-align: left;\n",
       "    }\n",
       "\n",
       "    .dataframe tbody tr th {\n",
       "        vertical-align: top;\n",
       "    }\n",
       "</style>\n",
       "<table border=\"1\" class=\"dataframe\">\n",
       "  <thead>\n",
       "    <tr style=\"text-align: right;\">\n",
       "      <th></th>\n",
       "      <th>Phase</th>\n",
       "      <th>Predicted_Phase</th>\n",
       "      <th>MISO1</th>\n",
       "      <th>MISO2</th>\n",
       "      <th>Amplitude</th>\n",
       "    </tr>\n",
       "  </thead>\n",
       "  <tbody>\n",
       "    <tr>\n",
       "      <th>1998-02-06</th>\n",
       "      <td>0</td>\n",
       "      <td>0</td>\n",
       "      <td>0.043117</td>\n",
       "      <td>-0.478062</td>\n",
       "      <td>0.465203</td>\n",
       "    </tr>\n",
       "    <tr>\n",
       "      <th>1998-02-09</th>\n",
       "      <td>0</td>\n",
       "      <td>0</td>\n",
       "      <td>-0.037368</td>\n",
       "      <td>-0.472886</td>\n",
       "      <td>0.459729</td>\n",
       "    </tr>\n",
       "    <tr>\n",
       "      <th>1998-02-21</th>\n",
       "      <td>0</td>\n",
       "      <td>0</td>\n",
       "      <td>-0.044256</td>\n",
       "      <td>0.103623</td>\n",
       "      <td>0.109297</td>\n",
       "    </tr>\n",
       "    <tr>\n",
       "      <th>1998-02-23</th>\n",
       "      <td>0</td>\n",
       "      <td>0</td>\n",
       "      <td>-0.074285</td>\n",
       "      <td>0.103655</td>\n",
       "      <td>0.123835</td>\n",
       "    </tr>\n",
       "    <tr>\n",
       "      <th>1998-02-25</th>\n",
       "      <td>0</td>\n",
       "      <td>0</td>\n",
       "      <td>-0.065677</td>\n",
       "      <td>0.065227</td>\n",
       "      <td>0.089972</td>\n",
       "    </tr>\n",
       "  </tbody>\n",
       "</table>\n",
       "</div>"
      ],
      "text/plain": [
       "            Phase  Predicted_Phase     MISO1     MISO2  Amplitude\n",
       "1998-02-06      0                0  0.043117 -0.478062   0.465203\n",
       "1998-02-09      0                0 -0.037368 -0.472886   0.459729\n",
       "1998-02-21      0                0 -0.044256  0.103623   0.109297\n",
       "1998-02-23      0                0 -0.074285  0.103655   0.123835\n",
       "1998-02-25      0                0 -0.065677  0.065227   0.089972"
      ]
     },
     "execution_count": 8,
     "metadata": {},
     "output_type": "execute_result"
    }
   ],
   "source": [
    "#Making a dataframe to compare predicted and actual class\n",
    "comparision_df = pd.DataFrame(y_test)\n",
    "comparision_df['Predicted_Phase']=y_pred\n",
    "comparision_df =comparision_df.join(MISO1)\n",
    "comparision_df = comparision_df.join(MISO2)\n",
    "comparision_df = comparision_df.join(Amplitude)\n",
    "\n",
    "comparision_df.head()"
   ]
  },
  {
   "cell_type": "code",
   "execution_count": 9,
   "metadata": {},
   "outputs": [
    {
     "data": {
      "text/html": [
       "<div>\n",
       "<style>\n",
       "    .dataframe thead tr:only-child th {\n",
       "        text-align: right;\n",
       "    }\n",
       "\n",
       "    .dataframe thead th {\n",
       "        text-align: left;\n",
       "    }\n",
       "\n",
       "    .dataframe tbody tr th {\n",
       "        vertical-align: top;\n",
       "    }\n",
       "</style>\n",
       "<table border=\"1\" class=\"dataframe\">\n",
       "  <thead>\n",
       "    <tr style=\"text-align: right;\">\n",
       "      <th></th>\n",
       "      <th>Phase</th>\n",
       "      <th>Predicted_Phase</th>\n",
       "      <th>MISO1</th>\n",
       "      <th>MISO2</th>\n",
       "      <th>Amplitude</th>\n",
       "    </tr>\n",
       "  </thead>\n",
       "  <tbody>\n",
       "    <tr>\n",
       "      <th>1998-08-11</th>\n",
       "      <td>7</td>\n",
       "      <td>0</td>\n",
       "      <td>-2.289053</td>\n",
       "      <td>-0.785056</td>\n",
       "      <td>2.357572</td>\n",
       "    </tr>\n",
       "    <tr>\n",
       "      <th>1998-08-12</th>\n",
       "      <td>7</td>\n",
       "      <td>0</td>\n",
       "      <td>-2.423728</td>\n",
       "      <td>-0.583769</td>\n",
       "      <td>2.429510</td>\n",
       "    </tr>\n",
       "    <tr>\n",
       "      <th>1998-08-21</th>\n",
       "      <td>5</td>\n",
       "      <td>4</td>\n",
       "      <td>-0.214877</td>\n",
       "      <td>1.576808</td>\n",
       "      <td>1.542408</td>\n",
       "    </tr>\n",
       "    <tr>\n",
       "      <th>1998-08-23</th>\n",
       "      <td>4</td>\n",
       "      <td>0</td>\n",
       "      <td>0.859142</td>\n",
       "      <td>1.506024</td>\n",
       "      <td>1.682745</td>\n",
       "    </tr>\n",
       "    <tr>\n",
       "      <th>1998-08-24</th>\n",
       "      <td>4</td>\n",
       "      <td>3</td>\n",
       "      <td>1.211423</td>\n",
       "      <td>1.314118</td>\n",
       "      <td>1.736807</td>\n",
       "    </tr>\n",
       "  </tbody>\n",
       "</table>\n",
       "</div>"
      ],
      "text/plain": [
       "            Phase  Predicted_Phase     MISO1     MISO2  Amplitude\n",
       "1998-08-11      7                0 -2.289053 -0.785056   2.357572\n",
       "1998-08-12      7                0 -2.423728 -0.583769   2.429510\n",
       "1998-08-21      5                4 -0.214877  1.576808   1.542408\n",
       "1998-08-23      4                0  0.859142  1.506024   1.682745\n",
       "1998-08-24      4                3  1.211423  1.314118   1.736807"
      ]
     },
     "execution_count": 9,
     "metadata": {},
     "output_type": "execute_result"
    }
   ],
   "source": [
    "\n",
    "#Collecting Incorrectly Predicted Data\n",
    "incorrectly_predicted = comparision_df[~(comparision_df.Phase == comparision_df.Predicted_Phase)]\n",
    "incorrectly_predicted.head()"
   ]
  },
  {
   "cell_type": "code",
   "execution_count": 10,
   "metadata": {},
   "outputs": [
    {
     "data": {
      "text/html": [
       "<div>\n",
       "<style>\n",
       "    .dataframe thead tr:only-child th {\n",
       "        text-align: right;\n",
       "    }\n",
       "\n",
       "    .dataframe thead th {\n",
       "        text-align: left;\n",
       "    }\n",
       "\n",
       "    .dataframe tbody tr th {\n",
       "        vertical-align: top;\n",
       "    }\n",
       "</style>\n",
       "<table border=\"1\" class=\"dataframe\">\n",
       "  <thead>\n",
       "    <tr style=\"text-align: right;\">\n",
       "      <th></th>\n",
       "      <th>Phase</th>\n",
       "      <th>Predicted_Phase</th>\n",
       "      <th>MISO1</th>\n",
       "      <th>MISO2</th>\n",
       "      <th>Amplitude</th>\n",
       "    </tr>\n",
       "  </thead>\n",
       "  <tbody>\n",
       "    <tr>\n",
       "      <th>count</th>\n",
       "      <td>168.000000</td>\n",
       "      <td>168.000000</td>\n",
       "      <td>168.000000</td>\n",
       "      <td>168.000000</td>\n",
       "      <td>168.000000</td>\n",
       "    </tr>\n",
       "    <tr>\n",
       "      <th>mean</th>\n",
       "      <td>3.755952</td>\n",
       "      <td>2.095238</td>\n",
       "      <td>0.068260</td>\n",
       "      <td>-0.336436</td>\n",
       "      <td>2.054545</td>\n",
       "    </tr>\n",
       "    <tr>\n",
       "      <th>std</th>\n",
       "      <td>2.732587</td>\n",
       "      <td>2.809816</td>\n",
       "      <td>1.601284</td>\n",
       "      <td>1.540708</td>\n",
       "      <td>0.728744</td>\n",
       "    </tr>\n",
       "    <tr>\n",
       "      <th>min</th>\n",
       "      <td>0.000000</td>\n",
       "      <td>0.000000</td>\n",
       "      <td>-4.339673</td>\n",
       "      <td>-3.385968</td>\n",
       "      <td>0.468625</td>\n",
       "    </tr>\n",
       "    <tr>\n",
       "      <th>25%</th>\n",
       "      <td>1.000000</td>\n",
       "      <td>0.000000</td>\n",
       "      <td>-1.261161</td>\n",
       "      <td>-1.589167</td>\n",
       "      <td>1.652439</td>\n",
       "    </tr>\n",
       "    <tr>\n",
       "      <th>50%</th>\n",
       "      <td>4.000000</td>\n",
       "      <td>0.000000</td>\n",
       "      <td>0.159620</td>\n",
       "      <td>-0.371172</td>\n",
       "      <td>1.933331</td>\n",
       "    </tr>\n",
       "    <tr>\n",
       "      <th>75%</th>\n",
       "      <td>6.000000</td>\n",
       "      <td>4.000000</td>\n",
       "      <td>1.378767</td>\n",
       "      <td>1.101365</td>\n",
       "      <td>2.439760</td>\n",
       "    </tr>\n",
       "    <tr>\n",
       "      <th>max</th>\n",
       "      <td>8.000000</td>\n",
       "      <td>8.000000</td>\n",
       "      <td>3.680321</td>\n",
       "      <td>3.168564</td>\n",
       "      <td>4.282391</td>\n",
       "    </tr>\n",
       "  </tbody>\n",
       "</table>\n",
       "</div>"
      ],
      "text/plain": [
       "            Phase  Predicted_Phase       MISO1       MISO2   Amplitude\n",
       "count  168.000000       168.000000  168.000000  168.000000  168.000000\n",
       "mean     3.755952         2.095238    0.068260   -0.336436    2.054545\n",
       "std      2.732587         2.809816    1.601284    1.540708    0.728744\n",
       "min      0.000000         0.000000   -4.339673   -3.385968    0.468625\n",
       "25%      1.000000         0.000000   -1.261161   -1.589167    1.652439\n",
       "50%      4.000000         0.000000    0.159620   -0.371172    1.933331\n",
       "75%      6.000000         4.000000    1.378767    1.101365    2.439760\n",
       "max      8.000000         8.000000    3.680321    3.168564    4.282391"
      ]
     },
     "execution_count": 10,
     "metadata": {},
     "output_type": "execute_result"
    }
   ],
   "source": [
    "incorrectly_predicted.describe()"
   ]
  },
  {
   "cell_type": "code",
   "execution_count": 11,
   "metadata": {},
   "outputs": [
    {
     "data": {
      "text/html": [
       "<div>\n",
       "<style>\n",
       "    .dataframe thead tr:only-child th {\n",
       "        text-align: right;\n",
       "    }\n",
       "\n",
       "    .dataframe thead th {\n",
       "        text-align: left;\n",
       "    }\n",
       "\n",
       "    .dataframe tbody tr th {\n",
       "        vertical-align: top;\n",
       "    }\n",
       "</style>\n",
       "<table border=\"1\" class=\"dataframe\">\n",
       "  <thead>\n",
       "    <tr style=\"text-align: right;\">\n",
       "      <th></th>\n",
       "      <th>Phase</th>\n",
       "      <th>Predicted_Phase</th>\n",
       "      <th>MISO1</th>\n",
       "      <th>MISO2</th>\n",
       "      <th>Amplitude</th>\n",
       "    </tr>\n",
       "  </thead>\n",
       "  <tbody>\n",
       "    <tr>\n",
       "      <th>1998-02-06</th>\n",
       "      <td>0</td>\n",
       "      <td>0</td>\n",
       "      <td>0.043117</td>\n",
       "      <td>-0.478062</td>\n",
       "      <td>0.465203</td>\n",
       "    </tr>\n",
       "    <tr>\n",
       "      <th>1998-02-09</th>\n",
       "      <td>0</td>\n",
       "      <td>0</td>\n",
       "      <td>-0.037368</td>\n",
       "      <td>-0.472886</td>\n",
       "      <td>0.459729</td>\n",
       "    </tr>\n",
       "    <tr>\n",
       "      <th>1998-02-21</th>\n",
       "      <td>0</td>\n",
       "      <td>0</td>\n",
       "      <td>-0.044256</td>\n",
       "      <td>0.103623</td>\n",
       "      <td>0.109297</td>\n",
       "    </tr>\n",
       "    <tr>\n",
       "      <th>1998-02-23</th>\n",
       "      <td>0</td>\n",
       "      <td>0</td>\n",
       "      <td>-0.074285</td>\n",
       "      <td>0.103655</td>\n",
       "      <td>0.123835</td>\n",
       "    </tr>\n",
       "    <tr>\n",
       "      <th>1998-02-25</th>\n",
       "      <td>0</td>\n",
       "      <td>0</td>\n",
       "      <td>-0.065677</td>\n",
       "      <td>0.065227</td>\n",
       "      <td>0.089972</td>\n",
       "    </tr>\n",
       "  </tbody>\n",
       "</table>\n",
       "</div>"
      ],
      "text/plain": [
       "            Phase  Predicted_Phase     MISO1     MISO2  Amplitude\n",
       "1998-02-06      0                0  0.043117 -0.478062   0.465203\n",
       "1998-02-09      0                0 -0.037368 -0.472886   0.459729\n",
       "1998-02-21      0                0 -0.044256  0.103623   0.109297\n",
       "1998-02-23      0                0 -0.074285  0.103655   0.123835\n",
       "1998-02-25      0                0 -0.065677  0.065227   0.089972"
      ]
     },
     "execution_count": 11,
     "metadata": {},
     "output_type": "execute_result"
    }
   ],
   "source": [
    "#Collecting Correctly Predicted Data\n",
    "correctly_predicted = comparision_df[~(comparision_df.Phase != comparision_df.Predicted_Phase)]\n",
    "correctly_predicted.head()\n"
   ]
  },
  {
   "cell_type": "code",
   "execution_count": 12,
   "metadata": {
    "collapsed": true
   },
   "outputs": [],
   "source": [
    "#Got this code from sklearn confusion matrix documentation\n",
    "#http://scikit-learn.org/stable/auto_examples/model_selection/plot_confusion_matrix.html#sphx-glr-auto-examples-model-selection-plot-confusion-matrix-py\n",
    "def plot_confusion_matrix(cm, classes,\n",
    "                          normalize=False,\n",
    "                          title='Confusion matrix',\n",
    "                          cmap=plt.cm.Blues):\n",
    "    \"\"\"\n",
    "    This function prints and plots the confusion matrix.\n",
    "    Normalization can be applied by setting `normalize=True`.\n",
    "    \"\"\"\n",
    "    if normalize:\n",
    "        cm = cm.astype('float') / cm.sum(axis=1)[:, np.newaxis]\n",
    "        print(\"Normalized confusion matrix\")\n",
    "    else:\n",
    "        print('Confusion matrix, without normalization')\n",
    "\n",
    "    print(cm)\n",
    "\n",
    "    plt.imshow(cm, interpolation='nearest', cmap=cmap)\n",
    "    plt.title(title)\n",
    "    plt.colorbar()\n",
    "    tick_marks = np.arange(len(classes))\n",
    "    plt.xticks(tick_marks, classes, rotation=45)\n",
    "    plt.yticks(tick_marks, classes)\n",
    "\n",
    "    fmt = '.2f' if normalize else 'd'\n",
    "    thresh = cm.max() / 2.\n",
    "    for i, j in itertools.product(range(cm.shape[0]), range(cm.shape[1])):\n",
    "        plt.text(j, i, format(cm[i, j], fmt),\n",
    "                 horizontalalignment=\"center\",\n",
    "                 color=\"white\" if cm[i, j] > thresh else \"black\")\n",
    "\n",
    "    plt.tight_layout()\n",
    "    plt.ylabel('True label')\n",
    "    plt.xlabel('Predicted label')\n",
    "\n",
    "\n"
   ]
  },
  {
   "cell_type": "code",
   "execution_count": 13,
   "metadata": {},
   "outputs": [
    {
     "name": "stdout",
     "output_type": "stream",
     "text": [
      "Confusion matrix, without normalization\n",
      "[[826   1   5   2   2   2   3   6   2]\n",
      " [ 19  20   4   0   0   0   0   0   2]\n",
      " [ 13   3  17   2   0   0   1   0   2]\n",
      " [  7   1   4  29   0   0   0   0   0]\n",
      " [ 13   0   1   4  20   2   0   0   0]\n",
      " [  8   0   0   0   2  14   4   0   0]\n",
      " [ 12   0   0   0   1   1  21   0   0]\n",
      " [  7   2   0   0   0   0   4  11   5]\n",
      " [ 10   5   0   0   0   0   1   5  16]]\n"
     ]
    },
    {
     "data": {
      "image/png": "[encoded data removed]",
      "text/plain": [
       "<matplotlib.figure.Figure at 0x1a10e7a208>"
      ]
     },
     "metadata": {},
     "output_type": "display_data"
    }
   ],
   "source": [
    "\n",
    "# Plot non-normalized confusion matrix\n",
    "plt.figure()\n",
    "\n",
    "\n",
    "plot_confusion_matrix(confusion_matrix, classes=['0','1','2','3','4','5','6','7','8'],title='Confusion matrix, without normalization')\n",
    "plt.show()"
   ]
  },
  {
   "cell_type": "code",
   "execution_count": 14,
   "metadata": {},
   "outputs": [
    {
     "name": "stdout",
     "output_type": "stream",
     "text": [
      "Normalized confusion matrix\n",
      "[[ 0.97290931  0.00117786  0.00588928  0.00235571  0.00235571  0.00235571\n",
      "   0.00353357  0.00706714  0.00235571]\n",
      " [ 0.42222222  0.44444444  0.08888889  0.          0.          0.          0.\n",
      "   0.          0.04444444]\n",
      " [ 0.34210526  0.07894737  0.44736842  0.05263158  0.          0.\n",
      "   0.02631579  0.          0.05263158]\n",
      " [ 0.17073171  0.02439024  0.09756098  0.70731707  0.          0.          0.\n",
      "   0.          0.        ]\n",
      " [ 0.325       0.          0.025       0.1         0.5         0.05        0.\n",
      "   0.          0.        ]\n",
      " [ 0.28571429  0.          0.          0.          0.07142857  0.5\n",
      "   0.14285714  0.          0.        ]\n",
      " [ 0.34285714  0.          0.          0.          0.02857143  0.02857143\n",
      "   0.6         0.          0.        ]\n",
      " [ 0.24137931  0.06896552  0.          0.          0.          0.\n",
      "   0.13793103  0.37931034  0.17241379]\n",
      " [ 0.27027027  0.13513514  0.          0.          0.          0.\n",
      "   0.02702703  0.13513514  0.43243243]]\n"
     ]
    },
    {
     "data": {
      "image/png": "[encoded data removed]",
      "text/plain": [
       "<matplotlib.figure.Figure at 0x1a10f33278>"
      ]
     },
     "metadata": {},
     "output_type": "display_data"
    }
   ],
   "source": [
    "# Plot normalized confusion matrix\n",
    "plt.figure()\n",
    "\n",
    "\n",
    "plot_confusion_matrix(confusion_matrix, classes=['0','1','2','3','4','5','6','7','8'],title='Confusion matrix, with normalization', normalize= True)\n",
    "plt.show()"
   ]
  },
  {
   "cell_type": "code",
   "execution_count": 15,
   "metadata": {},
   "outputs": [
    {
     "data": {
      "text/plain": [
       "SVC(C=1.0, cache_size=200, class_weight=None, coef0=3,\n",
       "  decision_function_shape='ovr', degree=3, gamma='auto', kernel='poly',\n",
       "  max_iter=-1, probability=False, random_state=None, shrinking=True,\n",
       "  tol=0.001, verbose=False)"
      ]
     },
     "execution_count": 15,
     "metadata": {},
     "output_type": "execute_result"
    }
   ],
   "source": [
    "clf"
   ]
  },
  {
   "cell_type": "code",
   "execution_count": null,
   "metadata": {
    "collapsed": true
   },
   "outputs": [],
   "source": []
  }
 ],
 "metadata": {
  "kernelspec": {
   "display_name": "Python 3",
   "language": "python",
   "name": "python3"
  },
  "language_info": {
   "codemirror_mode": {
    "name": "ipython",
    "version": 3
   },
   "file_extension": ".py",
   "mimetype": "text/x-python",
   "name": "python",
   "nbconvert_exporter": "python",
   "pygments_lexer": "ipython3",
   "version": "3.6.3"
  }
 },
 "nbformat": 4,
 "nbformat_minor": 2
}
