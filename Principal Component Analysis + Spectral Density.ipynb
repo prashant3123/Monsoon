{
 "cells": [
  {
   "cell_type": "code",
   "execution_count": 25,
   "metadata": {
    "collapsed": true
   },
   "outputs": [],
   "source": [
    "#Here I compute the principal components of global OLR dataset and find the \n",
    "#spectral density of the first principal component\n",
    "import pandas as pd\n",
    "import numpy as np\n",
    "from sklearn.decomposition import PCA\n",
    "import matplotlib.pyplot as plt\n",
    "import seaborn as sns\n",
    "sns.set(color_codes=True)\n"
   ]
  },
  {
   "cell_type": "code",
   "execution_count": 26,
   "metadata": {
    "collapsed": true
   },
   "outputs": [],
   "source": [
    "data = pd.read_pickle('final_dataframe.pkl')"
   ]
  },
  {
   "cell_type": "code",
   "execution_count": 27,
   "metadata": {},
   "outputs": [
    {
     "data": {
      "text/html": [
       "<div>\n",
       "<style>\n",
       "    .dataframe thead tr:only-child th {\n",
       "        text-align: right;\n",
       "    }\n",
       "\n",
       "    .dataframe thead th {\n",
       "        text-align: left;\n",
       "    }\n",
       "\n",
       "    .dataframe tbody tr th {\n",
       "        vertical-align: top;\n",
       "    }\n",
       "</style>\n",
       "<table border=\"1\" class=\"dataframe\">\n",
       "  <thead>\n",
       "    <tr style=\"text-align: right;\">\n",
       "      <th></th>\n",
       "      <th>Flattened_olr</th>\n",
       "      <th>Amplitude</th>\n",
       "      <th>MISO1</th>\n",
       "      <th>MISO2</th>\n",
       "      <th>Phase</th>\n",
       "    </tr>\n",
       "  </thead>\n",
       "  <tbody>\n",
       "    <tr>\n",
       "      <th>1998-02-02</th>\n",
       "      <td>[142.5, 142.5, 142.5, 142.5, 142.5, 142.5, 142...</td>\n",
       "      <td>0.271886</td>\n",
       "      <td>0.120646</td>\n",
       "      <td>-0.252943</td>\n",
       "      <td>0</td>\n",
       "    </tr>\n",
       "    <tr>\n",
       "      <th>1998-02-03</th>\n",
       "      <td>[141.4, 141.4, 141.4, 141.4, 141.4, 141.4, 141...</td>\n",
       "      <td>0.318955</td>\n",
       "      <td>0.101532</td>\n",
       "      <td>-0.312871</td>\n",
       "      <td>0</td>\n",
       "    </tr>\n",
       "    <tr>\n",
       "      <th>1998-02-04</th>\n",
       "      <td>[147.05, 147.05, 147.05, 147.05, 147.05, 147.0...</td>\n",
       "      <td>0.356638</td>\n",
       "      <td>0.075671</td>\n",
       "      <td>-0.360043</td>\n",
       "      <td>0</td>\n",
       "    </tr>\n",
       "    <tr>\n",
       "      <th>1998-02-05</th>\n",
       "      <td>[151.65, 151.65, 151.65, 151.65, 151.65, 151.6...</td>\n",
       "      <td>0.460725</td>\n",
       "      <td>0.042925</td>\n",
       "      <td>-0.473440</td>\n",
       "      <td>0</td>\n",
       "    </tr>\n",
       "    <tr>\n",
       "      <th>1998-02-06</th>\n",
       "      <td>[140.95, 140.95, 140.95, 140.95, 140.95, 140.9...</td>\n",
       "      <td>0.465203</td>\n",
       "      <td>0.043117</td>\n",
       "      <td>-0.478062</td>\n",
       "      <td>0</td>\n",
       "    </tr>\n",
       "  </tbody>\n",
       "</table>\n",
       "</div>"
      ],
      "text/plain": [
       "                                                Flattened_olr  Amplitude  \\\n",
       "1998-02-02  [142.5, 142.5, 142.5, 142.5, 142.5, 142.5, 142...   0.271886   \n",
       "1998-02-03  [141.4, 141.4, 141.4, 141.4, 141.4, 141.4, 141...   0.318955   \n",
       "1998-02-04  [147.05, 147.05, 147.05, 147.05, 147.05, 147.0...   0.356638   \n",
       "1998-02-05  [151.65, 151.65, 151.65, 151.65, 151.65, 151.6...   0.460725   \n",
       "1998-02-06  [140.95, 140.95, 140.95, 140.95, 140.95, 140.9...   0.465203   \n",
       "\n",
       "               MISO1     MISO2  Phase  \n",
       "1998-02-02  0.120646 -0.252943      0  \n",
       "1998-02-03  0.101532 -0.312871      0  \n",
       "1998-02-04  0.075671 -0.360043      0  \n",
       "1998-02-05  0.042925 -0.473440      0  \n",
       "1998-02-06  0.043117 -0.478062      0  "
      ]
     },
     "execution_count": 27,
     "metadata": {},
     "output_type": "execute_result"
    }
   ],
   "source": [
    "data.head() "
   ]
  },
  {
   "cell_type": "code",
   "execution_count": 28,
   "metadata": {
    "collapsed": true
   },
   "outputs": [],
   "source": [
    "olr =  data.iloc[:,0]\n",
    "miso1 = data.iloc[:, 2]\n",
    "miso2 = data.iloc[:, 3] "
   ]
  },
  {
   "cell_type": "code",
   "execution_count": 29,
   "metadata": {},
   "outputs": [
    {
     "data": {
      "text/html": [
       "<div>\n",
       "<style>\n",
       "    .dataframe thead tr:only-child th {\n",
       "        text-align: right;\n",
       "    }\n",
       "\n",
       "    .dataframe thead th {\n",
       "        text-align: left;\n",
       "    }\n",
       "\n",
       "    .dataframe tbody tr th {\n",
       "        vertical-align: top;\n",
       "    }\n",
       "</style>\n",
       "<table border=\"1\" class=\"dataframe\">\n",
       "  <thead>\n",
       "    <tr style=\"text-align: right;\">\n",
       "      <th></th>\n",
       "      <th>0</th>\n",
       "      <th>1</th>\n",
       "      <th>2</th>\n",
       "      <th>3</th>\n",
       "      <th>4</th>\n",
       "      <th>5</th>\n",
       "      <th>6</th>\n",
       "      <th>7</th>\n",
       "      <th>8</th>\n",
       "      <th>9</th>\n",
       "      <th>...</th>\n",
       "      <th>10502</th>\n",
       "      <th>10503</th>\n",
       "      <th>10504</th>\n",
       "      <th>10505</th>\n",
       "      <th>10506</th>\n",
       "      <th>10507</th>\n",
       "      <th>10508</th>\n",
       "      <th>10509</th>\n",
       "      <th>10510</th>\n",
       "      <th>10511</th>\n",
       "    </tr>\n",
       "  </thead>\n",
       "  <tbody>\n",
       "    <tr>\n",
       "      <th>1998-02-02</th>\n",
       "      <td>142.500000</td>\n",
       "      <td>142.500000</td>\n",
       "      <td>142.500000</td>\n",
       "      <td>142.500000</td>\n",
       "      <td>142.500000</td>\n",
       "      <td>142.500000</td>\n",
       "      <td>142.500000</td>\n",
       "      <td>142.500000</td>\n",
       "      <td>142.500000</td>\n",
       "      <td>142.500000</td>\n",
       "      <td>...</td>\n",
       "      <td>151.449997</td>\n",
       "      <td>151.449997</td>\n",
       "      <td>151.449997</td>\n",
       "      <td>151.449997</td>\n",
       "      <td>151.449997</td>\n",
       "      <td>151.449997</td>\n",
       "      <td>151.449997</td>\n",
       "      <td>151.449997</td>\n",
       "      <td>151.449997</td>\n",
       "      <td>151.449997</td>\n",
       "    </tr>\n",
       "    <tr>\n",
       "      <th>1998-02-03</th>\n",
       "      <td>141.399994</td>\n",
       "      <td>141.399994</td>\n",
       "      <td>141.399994</td>\n",
       "      <td>141.399994</td>\n",
       "      <td>141.399994</td>\n",
       "      <td>141.399994</td>\n",
       "      <td>141.399994</td>\n",
       "      <td>141.399994</td>\n",
       "      <td>141.399994</td>\n",
       "      <td>141.399994</td>\n",
       "      <td>...</td>\n",
       "      <td>152.050003</td>\n",
       "      <td>152.050003</td>\n",
       "      <td>152.050003</td>\n",
       "      <td>152.050003</td>\n",
       "      <td>152.050003</td>\n",
       "      <td>152.050003</td>\n",
       "      <td>152.050003</td>\n",
       "      <td>152.050003</td>\n",
       "      <td>152.050003</td>\n",
       "      <td>152.050003</td>\n",
       "    </tr>\n",
       "    <tr>\n",
       "      <th>1998-02-04</th>\n",
       "      <td>147.050003</td>\n",
       "      <td>147.050003</td>\n",
       "      <td>147.050003</td>\n",
       "      <td>147.050003</td>\n",
       "      <td>147.050003</td>\n",
       "      <td>147.050003</td>\n",
       "      <td>147.050003</td>\n",
       "      <td>147.050003</td>\n",
       "      <td>147.050003</td>\n",
       "      <td>147.050003</td>\n",
       "      <td>...</td>\n",
       "      <td>150.099991</td>\n",
       "      <td>150.099991</td>\n",
       "      <td>150.099991</td>\n",
       "      <td>150.099991</td>\n",
       "      <td>150.099991</td>\n",
       "      <td>150.099991</td>\n",
       "      <td>150.099991</td>\n",
       "      <td>150.099991</td>\n",
       "      <td>150.099991</td>\n",
       "      <td>150.099991</td>\n",
       "    </tr>\n",
       "    <tr>\n",
       "      <th>1998-02-05</th>\n",
       "      <td>151.649994</td>\n",
       "      <td>151.649994</td>\n",
       "      <td>151.649994</td>\n",
       "      <td>151.649994</td>\n",
       "      <td>151.649994</td>\n",
       "      <td>151.649994</td>\n",
       "      <td>151.649994</td>\n",
       "      <td>151.649994</td>\n",
       "      <td>151.649994</td>\n",
       "      <td>151.649994</td>\n",
       "      <td>...</td>\n",
       "      <td>148.849991</td>\n",
       "      <td>148.849991</td>\n",
       "      <td>148.849991</td>\n",
       "      <td>148.849991</td>\n",
       "      <td>148.849991</td>\n",
       "      <td>148.849991</td>\n",
       "      <td>148.849991</td>\n",
       "      <td>148.849991</td>\n",
       "      <td>148.849991</td>\n",
       "      <td>148.849991</td>\n",
       "    </tr>\n",
       "    <tr>\n",
       "      <th>1998-02-06</th>\n",
       "      <td>140.949997</td>\n",
       "      <td>140.949997</td>\n",
       "      <td>140.949997</td>\n",
       "      <td>140.949997</td>\n",
       "      <td>140.949997</td>\n",
       "      <td>140.949997</td>\n",
       "      <td>140.949997</td>\n",
       "      <td>140.949997</td>\n",
       "      <td>140.949997</td>\n",
       "      <td>140.949997</td>\n",
       "      <td>...</td>\n",
       "      <td>145.959991</td>\n",
       "      <td>145.959991</td>\n",
       "      <td>145.959991</td>\n",
       "      <td>145.959991</td>\n",
       "      <td>145.959991</td>\n",
       "      <td>145.959991</td>\n",
       "      <td>145.959991</td>\n",
       "      <td>145.959991</td>\n",
       "      <td>145.959991</td>\n",
       "      <td>145.959991</td>\n",
       "    </tr>\n",
       "  </tbody>\n",
       "</table>\n",
       "<p>5 rows × 10512 columns</p>\n",
       "</div>"
      ],
      "text/plain": [
       "                 0           1           2           3           4      \\\n",
       "1998-02-02  142.500000  142.500000  142.500000  142.500000  142.500000   \n",
       "1998-02-03  141.399994  141.399994  141.399994  141.399994  141.399994   \n",
       "1998-02-04  147.050003  147.050003  147.050003  147.050003  147.050003   \n",
       "1998-02-05  151.649994  151.649994  151.649994  151.649994  151.649994   \n",
       "1998-02-06  140.949997  140.949997  140.949997  140.949997  140.949997   \n",
       "\n",
       "                 5           6           7           8           9      \\\n",
       "1998-02-02  142.500000  142.500000  142.500000  142.500000  142.500000   \n",
       "1998-02-03  141.399994  141.399994  141.399994  141.399994  141.399994   \n",
       "1998-02-04  147.050003  147.050003  147.050003  147.050003  147.050003   \n",
       "1998-02-05  151.649994  151.649994  151.649994  151.649994  151.649994   \n",
       "1998-02-06  140.949997  140.949997  140.949997  140.949997  140.949997   \n",
       "\n",
       "               ...           10502       10503       10504       10505  \\\n",
       "1998-02-02     ...      151.449997  151.449997  151.449997  151.449997   \n",
       "1998-02-03     ...      152.050003  152.050003  152.050003  152.050003   \n",
       "1998-02-04     ...      150.099991  150.099991  150.099991  150.099991   \n",
       "1998-02-05     ...      148.849991  148.849991  148.849991  148.849991   \n",
       "1998-02-06     ...      145.959991  145.959991  145.959991  145.959991   \n",
       "\n",
       "                 10506       10507       10508       10509       10510  \\\n",
       "1998-02-02  151.449997  151.449997  151.449997  151.449997  151.449997   \n",
       "1998-02-03  152.050003  152.050003  152.050003  152.050003  152.050003   \n",
       "1998-02-04  150.099991  150.099991  150.099991  150.099991  150.099991   \n",
       "1998-02-05  148.849991  148.849991  148.849991  148.849991  148.849991   \n",
       "1998-02-06  145.959991  145.959991  145.959991  145.959991  145.959991   \n",
       "\n",
       "                 10511  \n",
       "1998-02-02  151.449997  \n",
       "1998-02-03  152.050003  \n",
       "1998-02-04  150.099991  \n",
       "1998-02-05  148.849991  \n",
       "1998-02-06  145.959991  \n",
       "\n",
       "[5 rows x 10512 columns]"
      ]
     },
     "execution_count": 29,
     "metadata": {},
     "output_type": "execute_result"
    }
   ],
   "source": [
    "olr_columns =pd.DataFrame.from_items(zip(olr.index, olr.values))\n",
    "olr_columns = olr_columns.T\n",
    "olr_columns.head()"
   ]
  },
  {
   "cell_type": "code",
   "execution_count": 30,
   "metadata": {
    "collapsed": true
   },
   "outputs": [],
   "source": [
    "# We do not standarize data because all entries are OLR values and we are interested in how \n",
    "#they are distributed\n",
    "pca = PCA(n_components=10) #We create PCA object\n",
    "pca.fit(olr_columns)\n",
    "pca_data = pca.transform(olr_columns)"
   ]
  },
  {
   "cell_type": "code",
   "execution_count": 31,
   "metadata": {},
   "outputs": [
    {
     "data": {
      "image/png": "[encoded data removed]",
      "text/plain": [
       "<matplotlib.figure.Figure at 0x1c336316d8>"
      ]
     },
     "metadata": {},
     "output_type": "display_data"
    }
   ],
   "source": [
    "#We calculate the percentage of variation that each principal component accounts for.\n",
    "per_var = np.round(pca.explained_variance_ratio_* 100, decimals = 1)\n",
    "#Now we create labels for the scree plot. These are \"PC1\", \"PC2\", etc (one per principal component)\n",
    "#A Scree Plot is a simple line segment plot that shows the fraction of total variance in the \n",
    "#data as explained or represented by each PC.\n",
    "labels = ['PC'+ str(x) for x in range(1, len(per_var) + 1)]\n",
    "\n",
    "plt.bar(x= range(1, len(per_var)+1), height = per_var, tick_label= labels)\n",
    "plt.ylabel('Percentage of Explained Variance')\n",
    "plt.xlabel('Principal Component of OLR')\n",
    "plt.title('Scree Plot')\n",
    "plt.show()"
   ]
  },
  {
   "cell_type": "code",
   "execution_count": 32,
   "metadata": {},
   "outputs": [
    {
     "data": {
      "image/png": "[encoded data removed]",
      "text/plain": [
       "<matplotlib.figure.Figure at 0x1c33087748>"
      ]
     },
     "metadata": {},
     "output_type": "display_data"
    }
   ],
   "source": [
    "#Now plotting PCA plot, we'll first put the new coordinates, created by pca.transform(scaled.data)\n",
    "#into a nice matrix where the rows have sample labels and the columns have PC lables\n",
    "pca_df = pd.DataFrame(pca_data, index = olr_columns.index, columns = labels)\n",
    "\n",
    "plt.scatter(pca_df.PC1, pca_df.index.month)\n",
    "plt.title('My PCA Graph')\n",
    "plt.xlabel('Principal Component I')\n",
    "plt.ylabel('Month')\n",
    "plt.show()\n",
    "\n",
    "\n"
   ]
  },
  {
   "cell_type": "code",
   "execution_count": 33,
   "metadata": {
    "collapsed": true
   },
   "outputs": [],
   "source": [
    "from scipy import signal"
   ]
  },
  {
   "cell_type": "code",
   "execution_count": 34,
   "metadata": {
    "collapsed": true
   },
   "outputs": [],
   "source": [
    "#Computing and Plotting Power Spectral Density\n",
    "f, Pxx_den = signal.periodogram(pca_df.PC1)\n"
   ]
  },
  {
   "cell_type": "code",
   "execution_count": 35,
   "metadata": {},
   "outputs": [
    {
     "data": {
      "image/png": "[encoded data removed]",
      "text/plain": [
       "<matplotlib.figure.Figure at 0x1c33631c88>"
      ]
     },
     "metadata": {},
     "output_type": "display_data"
    }
   ],
   "source": [
    "plt.semilogy(f[:100], Pxx_den[:100])\n",
    "#plt.ylim([10e+1, 10e+9])\n",
    "plt.show()"
   ]
  },
  {
   "cell_type": "code",
   "execution_count": 36,
   "metadata": {
    "collapsed": true
   },
   "outputs": [],
   "source": [
    "index_of_max =Pxx_den.argmax()"
   ]
  },
  {
   "cell_type": "code",
   "execution_count": 37,
   "metadata": {},
   "outputs": [],
   "source": [
    "highest_frequency = f[index_of_max]"
   ]
  },
  {
   "cell_type": "code",
   "execution_count": 40,
   "metadata": {},
   "outputs": [
    {
     "data": {
      "text/plain": [
       "363.25"
      ]
     },
     "execution_count": 40,
     "metadata": {},
     "output_type": "execute_result"
    }
   ],
   "source": [
    "1/highest_frequency\n",
    "#Hence we can say that the first principal component of global OLR data has frequncy of 363.25 \n",
    "#(yearly cycle)"
   ]
  },
  {
   "cell_type": "code",
   "execution_count": 39,
   "metadata": {},
   "outputs": [
    {
     "data": {
      "image/png": "[encoded data removed]",
      "text/plain": [
       "<matplotlib.figure.Figure at 0x117600b00>"
      ]
     },
     "metadata": {},
     "output_type": "display_data"
    }
   ],
   "source": [
    "plt.plot(pca_df.PC1)\n",
    "plt.xlabel('Year')\n",
    "plt.ylabel('Principal Component I')\n",
    "plt.show()"
   ]
  },
  {
   "cell_type": "code",
   "execution_count": null,
   "metadata": {},
   "outputs": [],
   "source": []
  },
  {
   "cell_type": "code",
   "execution_count": null,
   "metadata": {
    "collapsed": true
   },
   "outputs": [],
   "source": []
  },
  {
   "cell_type": "code",
   "execution_count": null,
   "metadata": {
    "collapsed": true
   },
   "outputs": [],
   "source": []
  },
  {
   "cell_type": "code",
   "execution_count": null,
   "metadata": {
    "collapsed": true
   },
   "outputs": [],
   "source": []
  }
 ],
 "metadata": {
  "kernelspec": {
   "display_name": "Python 3",
   "language": "python",
   "name": "python3"
  },
  "language_info": {
   "codemirror_mode": {
    "name": "ipython",
    "version": 3
   },
   "file_extension": ".py",
   "mimetype": "text/x-python",
   "name": "python",
   "nbconvert_exporter": "python",
   "pygments_lexer": "ipython3",
   "version": "3.6.3"
  }
 },
 "nbformat": 4,
 "nbformat_minor": 2
}
